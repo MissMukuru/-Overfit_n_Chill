{
  "nbformat": 4,
  "nbformat_minor": 0,
  "metadata": {
    "colab": {
      "provenance": [],
      "mount_file_id": "1pmW0P-ZHESIiazDndhMDAdv9V9REaQQm",
      "authorship_tag": "ABX9TyM8AqreJb0mjsRLc/sK3lPM",
      "include_colab_link": true
    },
    "kernelspec": {
      "name": "python3",
      "display_name": "Python 3"
    },
    "language_info": {
      "name": "python"
    }
  },
  "cells": [
    {
      "cell_type": "markdown",
      "metadata": {
        "id": "view-in-github",
        "colab_type": "text"
      },
      "source": [
        "<a href=\"https://colab.research.google.com/github/MissMukuru/-Overfit_n_Chill/blob/main/Data_augumentor.ipynb\" target=\"_parent\"><img src=\"https://colab.research.google.com/assets/colab-badge.svg\" alt=\"Open In Colab\"/></a>"
      ]
    },
    {
      "cell_type": "code",
      "execution_count": 9,
      "metadata": {
        "id": "DCSGaNpEHX8l"
      },
      "outputs": [],
      "source": [
        "from tensorflow.keras.preprocessing.image import ImageDataGenerator\n",
        "from tensorflow.keras.utils import array_to_img, img_to_array, load_img"
      ]
    },
    {
      "cell_type": "code",
      "source": [
        "#Passing the paramenters in the constructor of the ImageDataGenerator\n",
        "\n",
        "datagen = ImageDataGenerator(\n",
        "    rotation_range = 40,\n",
        "    shear_range = 0.2,\n",
        "    zoom_range = 0.4,\n",
        "    horizontal_flip = True,\n",
        "    brightness_range = ((0.5, 1.5))\n",
        ")"
      ],
      "metadata": {
        "id": "al8XoLVxIHsJ"
      },
      "execution_count": 10,
      "outputs": []
    },
    {
      "cell_type": "code",
      "source": [
        "img = load_img(\"/content/drive/MyDrive/Jeep Wrangler.jpg\")\n",
        "x = img_to_array(img)\n",
        "x = x.reshape((1,) + x.shape)"
      ],
      "metadata": {
        "id": "ge8csH-yIImc"
      },
      "execution_count": 11,
      "outputs": []
    },
    {
      "cell_type": "code",
      "metadata": {
        "id": "7a9d488e"
      },
      "source": [
        "import os\n",
        "\n",
        "# Create the directory if it does not exist\n",
        "os.makedirs('preview', exist_ok=True)"
      ],
      "execution_count": 12,
      "outputs": []
    },
    {
      "cell_type": "code",
      "source": [
        "#Generating 5 samples using the defined parameters\n",
        "i = 0\n",
        "for batch in datagen.flow(x, batch_size = 1, save_to_dir = 'preview',save_prefix = 'image', save_format= 'jpeg'):\n",
        "  i += 1\n",
        "  if i > 5:\n",
        "    break"
      ],
      "metadata": {
        "id": "bt85W16BIrnM"
      },
      "execution_count": 13,
      "outputs": []
    },
    {
      "cell_type": "code",
      "source": [
        "pip install Augmentor"
      ],
      "metadata": {
        "colab": {
          "base_uri": "https://localhost:8080/"
        },
        "id": "tmraPG22KQeu",
        "outputId": "69b6597c-dff8-4ee9-aa65-3bfab7c41ace"
      },
      "execution_count": 15,
      "outputs": [
        {
          "output_type": "stream",
          "name": "stdout",
          "text": [
            "Collecting Augmentor\n",
            "  Downloading Augmentor-0.2.12-py2.py3-none-any.whl.metadata (1.3 kB)\n",
            "Requirement already satisfied: Pillow>=5.2.0 in /usr/local/lib/python3.11/dist-packages (from Augmentor) (11.2.1)\n",
            "Requirement already satisfied: tqdm>=4.9.0 in /usr/local/lib/python3.11/dist-packages (from Augmentor) (4.67.1)\n",
            "Requirement already satisfied: numpy>=1.11.0 in /usr/local/lib/python3.11/dist-packages (from Augmentor) (2.0.2)\n",
            "Downloading Augmentor-0.2.12-py2.py3-none-any.whl (38 kB)\n",
            "Installing collected packages: Augmentor\n",
            "Successfully installed Augmentor-0.2.12\n"
          ]
        }
      ]
    },
    {
      "cell_type": "code",
      "source": [
        "\n",
        "import Augmentor\n",
        "p = Augmentor.Pipeline('/content/drive/MyDrive/Images')\n",
        "p.flip_left_right(0.5)\n",
        "p.black_and_white(0.1)\n",
        "p.rotate(0.3, 10, 10)\n",
        "p.skew(0.4, 0.5)\n",
        "p.zoom(probability = 0.2, min_factor = 1.1, max_factor = 1.5)\n",
        "p.sample(5)"
      ],
      "metadata": {
        "colab": {
          "base_uri": "https://localhost:8080/"
        },
        "id": "Lq6qOCETM_1d",
        "outputId": "5e52c2c9-71bf-4ce5-c56d-3b90b063073a"
      },
      "execution_count": 24,
      "outputs": [
        {
          "output_type": "stream",
          "name": "stdout",
          "text": [
            "Initialised with 1 image(s) found.\n",
            "Output directory set to /content/drive/MyDrive/Images/output."
          ]
        },
        {
          "output_type": "stream",
          "name": "stderr",
          "text": [
            "Processing <PIL.Image.Image image mode=RGB size=275x183 at 0x7D069A552850>: 100%|██████████| 5/5 [00:00<00:00, 58.84 Samples/s]\n"
          ]
        }
      ]
    },
    {
      "cell_type": "code",
      "source": [],
      "metadata": {
        "id": "NvlGxKhZOFQG"
      },
      "execution_count": null,
      "outputs": []
    }
  ]
}