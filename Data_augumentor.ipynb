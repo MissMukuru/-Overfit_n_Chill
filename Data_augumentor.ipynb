{
  "nbformat": 4,
  "nbformat_minor": 0,
  "metadata": {
    "colab": {
      "provenance": [],
      "mount_file_id": "1pmW0P-ZHESIiazDndhMDAdv9V9REaQQm",
      "authorship_tag": "ABX9TyO0hqGCB9z6dCdneHj3JO+o",
      "include_colab_link": true
    },
    "kernelspec": {
      "name": "python3",
      "display_name": "Python 3"
    },
    "language_info": {
      "name": "python"
    }
  },
  "cells": [
    {
      "cell_type": "markdown",
      "metadata": {
        "id": "view-in-github",
        "colab_type": "text"
      },
      "source": [
        "<a href=\"https://colab.research.google.com/github/MissMukuru/-Overfit_n_Chill/blob/main/Data_augumentor.ipynb\" target=\"_parent\"><img src=\"https://colab.research.google.com/assets/colab-badge.svg\" alt=\"Open In Colab\"/></a>"
      ]
    },
    {
      "cell_type": "code",
      "execution_count": 9,
      "metadata": {
        "id": "DCSGaNpEHX8l"
      },
      "outputs": [],
      "source": [
        "from tensorflow.keras.preprocessing.image import ImageDataGenerator\n",
        "from tensorflow.keras.utils import array_to_img, img_to_array, load_img"
      ]
    },
    {
      "cell_type": "code",
      "source": [
        "#Passing the paramenters in the constructor of the ImageDataGenerator\n",
        "\n",
        "datagen = ImageDataGenerator(\n",
        "    rotation_range = 40,\n",
        "    shear_range = 0.2,\n",
        "    zoom_range = 0.4,\n",
        "    horizontal_flip = True,\n",
        "    brightness_range = ((0.5, 1.5))\n",
        ")"
      ],
      "metadata": {
        "id": "al8XoLVxIHsJ"
      },
      "execution_count": 10,
      "outputs": []
    },
    {
      "cell_type": "code",
      "source": [
        "img = load_img(\"/content/drive/MyDrive/Jeep Wrangler.jpg\")\n",
        "x = img_to_array(img)\n",
        "x = x.reshape((1,) + x.shape)"
      ],
      "metadata": {
        "id": "ge8csH-yIImc"
      },
      "execution_count": 11,
      "outputs": []
    },
    {
      "cell_type": "code",
      "metadata": {
        "id": "7a9d488e"
      },
      "source": [
        "import os\n",
        "\n",
        "# Create the directory if it does not exist\n",
        "os.makedirs('preview', exist_ok=True)"
      ],
      "execution_count": 12,
      "outputs": []
    },
    {
      "cell_type": "code",
      "source": [
        "#Generating 5 samples using the defined parameters\n",
        "i = 0\n",
        "for batch in datagen.flow(x, batch_size = 1, save_to_dir = 'preview',save_prefix = 'image', save_format= 'jpeg'):\n",
        "  i += 1\n",
        "  if i > 5:\n",
        "    break"
      ],
      "metadata": {
        "id": "bt85W16BIrnM"
      },
      "execution_count": 13,
      "outputs": []
    },
    {
      "cell_type": "code",
      "source": [],
      "metadata": {
        "id": "tmraPG22KQeu"
      },
      "execution_count": 13,
      "outputs": []
    }
  ]
}