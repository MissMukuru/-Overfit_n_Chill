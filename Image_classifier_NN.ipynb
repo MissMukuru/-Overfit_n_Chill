{
  "nbformat": 4,
  "nbformat_minor": 0,
  "metadata": {
    "colab": {
      "provenance": [],
      "authorship_tag": "ABX9TyOGaYvvnZrqOHEVAQt1e5R8",
      "include_colab_link": true
    },
    "kernelspec": {
      "name": "python3",
      "display_name": "Python 3"
    },
    "language_info": {
      "name": "python"
    }
  },
  "cells": [
    {
      "cell_type": "markdown",
      "metadata": {
        "id": "view-in-github",
        "colab_type": "text"
      },
      "source": [
        "<a href=\"https://colab.research.google.com/github/MissMukuru/-Overfit_n_Chill/blob/main/Image_classifier_NN.ipynb\" target=\"_parent\"><img src=\"https://colab.research.google.com/assets/colab-badge.svg\" alt=\"Open In Colab\"/></a>"
      ]
    },
    {
      "cell_type": "code",
      "execution_count": 2,
      "metadata": {
        "id": "Kbu3pTKUhdl3"
      },
      "outputs": [],
      "source": [
        "import tensorflow as tf\n",
        "from tensorflow import keras\n",
        "import numpy as np\n",
        "import pandas as pd\n",
        "import matplotlib.pyplot as plt\n",
        "%matplotlib inline\n",
        "from keras import layers, models\n",
        "from  tensorflow.keras.models import Sequential\n",
        "from tensorflow.keras.layers import Dense, Flatten"
      ]
    },
    {
      "cell_type": "code",
      "source": [
        "(X_train,y_train),(X_test,y_test) = keras.datasets.mnist.load_data()"
      ],
      "metadata": {
        "id": "JzGPhxVqhsCN",
        "colab": {
          "base_uri": "https://localhost:8080/"
        },
        "outputId": "a55cdde1-8505-4297-a625-cf9acd3b5c21"
      },
      "execution_count": 3,
      "outputs": [
        {
          "output_type": "stream",
          "name": "stdout",
          "text": [
            "Downloading data from https://storage.googleapis.com/tensorflow/tf-keras-datasets/mnist.npz\n",
            "\u001b[1m11490434/11490434\u001b[0m \u001b[32m━━━━━━━━━━━━━━━━━━━━\u001b[0m\u001b[37m\u001b[0m \u001b[1m0s\u001b[0m 0us/step\n"
          ]
        }
      ]
    },
    {
      "cell_type": "code",
      "source": [
        "#Normalising  the pixel values\n",
        "#0 - 255 is  the ggrayscale images, it scales to the ange 0-1 which helps the network train faster and perform better\n",
        "X_train,X_test = X_train/255,X_test/255"
      ],
      "metadata": {
        "id": "CVK89-wliNae"
      },
      "execution_count": 4,
      "outputs": []
    },
    {
      "cell_type": "code",
      "source": [
        "#Visualise a sample image\n",
        "plt.imshow(X_train[0], cmap = 'gray')\n",
        "plt.show()\n"
      ],
      "metadata": {
        "colab": {
          "base_uri": "https://localhost:8080/",
          "height": 430
        },
        "id": "aVcjqKIhijPp",
        "outputId": "c1eeb3fa-88ca-4381-be43-f70bd3d2d2ba"
      },
      "execution_count": 5,
      "outputs": [
        {
          "output_type": "display_data",
          "data": {
            "text/plain": [
              "<Figure size 640x480 with 1 Axes>"
            ],
            "image/png": "[encoded data removed]"
          },
          "metadata": {}
        }
      ]
    },
    {
      "cell_type": "markdown",
      "source": [
        "Sequential helps stackk layers ane after another and is useful when each layyer takes oen iput and produces one output"
      ],
      "metadata": {
        "id": "rSiMKsQ7S4s_"
      }
    },
    {
      "cell_type": "markdown",
      "source": [
        "Each late is like a function that trannsforms data and has trainable values (weights and biases) that the model learns from the data, and you can reuse layes in different models.\n",
        "Flattenning means converting a 2D or 3D into a 1D( single line of numbers)"
      ],
      "metadata": {
        "id": "1RZ74FdaTY3Y"
      }
    },
    {
      "cell_type": "markdown",
      "source": [],
      "metadata": {
        "id": "v3G_b4w8UA4f"
      }
    },
    {
      "cell_type": "code",
      "source": [
        "#Building  the neural network\n",
        "model = Sequential(\n",
        "    [Flatten(input_shape = (28 ,28)),#converts them into a 1D array,because dense layers require a 1d input\n",
        "    Dense(128, activation = 'relu'),#this is the hidden layer with 128 neurons\n",
        "    #the relu = rectified Linear Unit, it keeps the ppositive values as they are and sets the negative values to zero\n",
        "    Dense(10, activation  = 'softmax')]#This is the output layer and it ahas 10 neurons for each digit (0-9)\n",
        "    #the softmax function converts the output into  probabilities(each neuron  represents the pprobability of a digit)\n",
        ")"
      ],
      "metadata": {
        "id": "hkPui-o9jDvl",
        "colab": {
          "base_uri": "https://localhost:8080/"
        },
        "outputId": "593abe8f-7b2d-4913-9601-f2af189f4670"
      },
      "execution_count": 6,
      "outputs": [
        {
          "output_type": "stream",
          "name": "stderr",
          "text": [
            "/usr/local/lib/python3.11/dist-packages/keras/src/layers/reshaping/flatten.py:37: UserWarning: Do not pass an `input_shape`/`input_dim` argument to a layer. When using Sequential models, prefer using an `Input(shape)` object as the first layer in the model instead.\n",
            "  super().__init__(**kwargs)\n"
          ]
        }
      ]
    },
    {
      "cell_type": "code",
      "source": [
        "#Now compiling the model\n",
        "model.compile(\n",
        "    optimizer =  'adam',#disstibutes the weights efficiently\n",
        "    loss = 'sparse_categorical_crossentropy',\n",
        "    metrics = ['accuracy']\n",
        ")"
      ],
      "metadata": {
        "id": "CexDr28ImTQF"
      },
      "execution_count": 7,
      "outputs": []
    },
    {
      "cell_type": "code",
      "source": [
        "model.fit(X_train, y_train,epochs = 5, validation_data = (X_test,y_test))"
      ],
      "metadata": {
        "colab": {
          "base_uri": "https://localhost:8080/"
        },
        "id": "0kV0xPdpntzh",
        "outputId": "76b8480d-cc0d-4e5c-f289-461472e97d19"
      },
      "execution_count": 8,
      "outputs": [
        {
          "output_type": "stream",
          "name": "stdout",
          "text": [
            "Epoch 1/5\n",
            "\u001b[1m1875/1875\u001b[0m \u001b[32m━━━━━━━━━━━━━━━━━━━━\u001b[0m\u001b[37m\u001b[0m \u001b[1m8s\u001b[0m 4ms/step - accuracy: 0.8756 - loss: 0.4378 - val_accuracy: 0.9593 - val_loss: 0.1369\n",
            "Epoch 2/5\n",
            "\u001b[1m1875/1875\u001b[0m \u001b[32m━━━━━━━━━━━━━━━━━━━━\u001b[0m\u001b[37m\u001b[0m \u001b[1m8s\u001b[0m 4ms/step - accuracy: 0.9622 - loss: 0.1241 - val_accuracy: 0.9690 - val_loss: 0.1029\n",
            "Epoch 3/5\n",
            "\u001b[1m1875/1875\u001b[0m \u001b[32m━━━━━━━━━━━━━━━━━━━━\u001b[0m\u001b[37m\u001b[0m \u001b[1m7s\u001b[0m 4ms/step - accuracy: 0.9771 - loss: 0.0770 - val_accuracy: 0.9737 - val_loss: 0.0875\n",
            "Epoch 4/5\n",
            "\u001b[1m1875/1875\u001b[0m \u001b[32m━━━━━━━━━━━━━━━━━━━━\u001b[0m\u001b[37m\u001b[0m \u001b[1m8s\u001b[0m 4ms/step - accuracy: 0.9827 - loss: 0.0599 - val_accuracy: 0.9722 - val_loss: 0.0899\n",
            "Epoch 5/5\n",
            "\u001b[1m1875/1875\u001b[0m \u001b[32m━━━━━━━━━━━━━━━━━━━━\u001b[0m\u001b[37m\u001b[0m \u001b[1m10s\u001b[0m 4ms/step - accuracy: 0.9870 - loss: 0.0439 - val_accuracy: 0.9757 - val_loss: 0.0745\n"
          ]
        },
        {
          "output_type": "execute_result",
          "data": {
            "text/plain": [
              "<keras.src.callbacks.history.History at 0x7d8e50938510>"
            ]
          },
          "metadata": {},
          "execution_count": 8
        }
      ]
    },
    {
      "cell_type": "code",
      "source": [
        "#We then evaluate the model peformance\n",
        "test_loss, test_acc = model.evaluate(X_test, y_test)\n",
        "print(f'test_accuracy: {test_acc}')\n"
      ],
      "metadata": {
        "colab": {
          "base_uri": "https://localhost:8080/"
        },
        "id": "e2sJrCEbm4pH",
        "outputId": "beabae4f-818c-4cce-a365-dab9ebd94cf8"
      },
      "execution_count": 9,
      "outputs": [
        {
          "output_type": "stream",
          "name": "stdout",
          "text": [
            "\u001b[1m313/313\u001b[0m \u001b[32m━━━━━━━━━━━━━━━━━━━━\u001b[0m\u001b[37m\u001b[0m \u001b[1m1s\u001b[0m 2ms/step - accuracy: 0.9720 - loss: 0.0863\n",
            "test_accuracy: 0.9757000207901001\n"
          ]
        }
      ]
    },
    {
      "cell_type": "code",
      "source": [
        "#then we make predictions on the data\n",
        "prediction = model.predict(X_test)\n",
        "\n",
        "#i need to show the predictions\n",
        "index = 30\n",
        "plt.imshow(X_test[index], cmap = 'grey')\n",
        "plt.title(f\"predicted: {np.argmax(prediction[index])}\")\n",
        "plt.show()"
      ],
      "metadata": {
        "colab": {
          "base_uri": "https://localhost:8080/",
          "height": 469
        },
        "id": "xpcGSsbmornd",
        "outputId": "1fb56de2-9e02-4b65-9112-360e55eedac1"
      },
      "execution_count": 10,
      "outputs": [
        {
          "output_type": "stream",
          "name": "stdout",
          "text": [
            "\u001b[1m313/313\u001b[0m \u001b[32m━━━━━━━━━━━━━━━━━━━━\u001b[0m\u001b[37m\u001b[0m \u001b[1m1s\u001b[0m 2ms/step\n"
          ]
        },
        {
          "output_type": "display_data",
          "data": {
            "text/plain": [
              "<Figure size 640x480 with 1 Axes>"
            ],
            "image/png": "[encoded data removed]"
          },
          "metadata": {}
        }
      ]
    },
    {
      "cell_type": "markdown",
      "source": [
        "# CONVOLUTIONAL NEURAL NETWORKS\n",
        "\n",
        "**NOW WE COMPARE THE ARTIFICIAL NEURAL NETWORK AND THE CONVOLUTION NEURAL NETWORKS**\n",
        "\n",
        "We will look at the syntax, the sematics and the diffeence in accuary is at all there is any."
      ],
      "metadata": {
        "id": "Gm8g5qWFlfyJ"
      }
    },
    {
      "cell_type": "code",
      "source": [
        "#Reshape data to add a single channel(grayscale images)\n",
        "X_train = X_train.reshape(-1, 28, 28, 1)\n",
        "X_test = X_test.reshape(-1, 28, 28, 1)"
      ],
      "metadata": {
        "id": "X-SMI-7xov8h"
      },
      "execution_count": 11,
      "outputs": []
    },
    {
      "cell_type": "code",
      "source": [
        "#defining the CNN model\n",
        "#defining the CNN model\n",
        "model = Sequential([\n",
        "    #First CNN layer\n",
        "    layers.Conv2D(32, (3,3), activation =  'relu', input_shape=(28, 28, 1)),\n",
        "    layers.MaxPooling2D((2,2)),\n",
        "\n",
        "    #Second CNN layer\n",
        "    layers.Conv2D(64, (3,3), activation = 'relu'),\n",
        "    layers.MaxPooling2D((2,2)),\n",
        "\n",
        "    #Third CNN layer\n",
        "    layers.Flatten(),\n",
        "    layers.Dense(128,activation = 'relu'),#This is the fully connected layer\n",
        "    layers.Dense(10, activation = 'softmax')#This is th output layer(10 classes)\n",
        "])"
      ],
      "metadata": {
        "colab": {
          "base_uri": "https://localhost:8080/"
        },
        "id": "1Gh4BR0PvJBt",
        "outputId": "3d3e3440-3cda-4f08-e2b6-ed0c8eec4ad1"
      },
      "execution_count": 12,
      "outputs": [
        {
          "output_type": "stream",
          "name": "stderr",
          "text": [
            "/usr/local/lib/python3.11/dist-packages/keras/src/layers/convolutional/base_conv.py:107: UserWarning: Do not pass an `input_shape`/`input_dim` argument to a layer. When using Sequential models, prefer using an `Input(shape)` object as the first layer in the model instead.\n",
            "  super().__init__(activity_regularizer=activity_regularizer, **kwargs)\n"
          ]
        }
      ]
    },
    {
      "cell_type": "markdown",
      "source": [
        "In CNNs Flatten is used to connect the convolutional part to the fully connected layers"
      ],
      "metadata": {
        "id": "m8pIsUh2UHnD"
      }
    },
    {
      "cell_type": "markdown",
      "source": [
        "Dense() is a fully connected layer where every neuron is connected to every neuron in the next layer, they are used for decision making in the neural network\n"
      ],
      "metadata": {
        "id": "i3ExshoTUSJS"
      }
    },
    {
      "cell_type": "code",
      "source": [
        "model.compile(\n",
        "    optimizer = 'adam',\n",
        "    loss = 'sparse_categorical_crossentropy',\n",
        "    metrics = ['accuracy']\n",
        ")"
      ],
      "metadata": {
        "id": "H0xPWeB6vRyr"
      },
      "execution_count": 13,
      "outputs": []
    },
    {
      "cell_type": "code",
      "source": [
        "#Taining the model\n",
        "history =model.fit(X_train,y_train, epochs = 10, validation_data = (X_test, y_test))\n"
      ],
      "metadata": {
        "colab": {
          "base_uri": "https://localhost:8080/"
        },
        "id": "hzZ9nrUgxNrE",
        "outputId": "9db983a8-2bba-4229-b496-3168068a4f5c"
      },
      "execution_count": null,
      "outputs": [
        {
          "output_type": "stream",
          "name": "stdout",
          "text": [
            "Epoch 1/10\n",
            "\u001b[1m 228/1875\u001b[0m \u001b[32m━━\u001b[0m\u001b[37m━━━━━━━━━━━━━━━━━━\u001b[0m \u001b[1m49s\u001b[0m 30ms/step - accuracy: 0.7152 - loss: 0.9143"
          ]
        }
      ]
    },
    {
      "cell_type": "code",
      "source": [
        "test_loss,test_acc =  model.evaluate(X_test, y_test)\n",
        "print(f'Test Accuracy: {test_acc}')"
      ],
      "metadata": {
        "id": "4NWTOi0qxNkK"
      },
      "execution_count": null,
      "outputs": []
    },
    {
      "cell_type": "code",
      "source": [
        "#Plotting the accuaraacy and loss\n",
        "plt.figure(figsize=(12, 5))\n",
        "plt.subplot(1,2,1)\n",
        "plt.plot(history.history['accuracy'],  label = 'Training_accuracy')\n",
        "plt.plot(history.history['val_accuracy'], label = 'Validation_accuracy')\n",
        "plt.title('Modell accuracy')\n",
        "plt.legend()"
      ],
      "metadata": {
        "id": "cr1tuzIyyBpe"
      },
      "execution_count": null,
      "outputs": []
    },
    {
      "cell_type": "markdown",
      "source": [
        "Remember that the **training accuracy** represents how well your model predicts on the data it was trained on and the **validation accuracy** represents how well your model genalizes to new unseen data"
      ],
      "metadata": {
        "id": "l2xYs0F_C3rD"
      }
    },
    {
      "cell_type": "markdown",
      "source": [
        "Since via teh graph we can tell that we only have a small difference in the two, it means we hae Good generalization and and some slight overfittng which is acceptable"
      ],
      "metadata": {
        "id": "BY06un6TDZXY"
      }
    },
    {
      "cell_type": "code",
      "source": [
        "plt.subplot(1,2,2)\n",
        "plt.plot(history.history['loss'], label = \"Training loss\")\n",
        "plt.plot(history.history['val_loss'],label = 'Validation loss')\n",
        "plt.title('Model loss')\n",
        "plt.legend()\n",
        "plt.show()"
      ],
      "metadata": {
        "id": "EMpNX5zvBCQR"
      },
      "execution_count": null,
      "outputs": []
    },
    {
      "cell_type": "markdown",
      "source": [
        "This is a scenario where your training loss is higher than the validation loss and exhibiting an upward trend while the validation loss is decreasing (plummeting)\n",
        "\n",
        "\n",
        "\n"
      ],
      "metadata": {
        "id": "5rD8ylsoCySl"
      }
    },
    {
      "cell_type": "markdown",
      "source": [
        "This is sometimes common especially when there might be differences in the distribution or characteristics of your training and validation datasets.\n",
        "\n"
      ],
      "metadata": {
        "id": "WQICX-4QEhpb"
      }
    },
    {
      "cell_type": "markdown",
      "source": [],
      "metadata": {
        "id": "kjl5aljrEXSe"
      }
    },
    {
      "cell_type": "code",
      "source": [],
      "metadata": {
        "id": "ZY7rD8KpBj9B"
      },
      "execution_count": null,
      "outputs": []
    }
  ]
}