{
  "nbformat": 4,
  "nbformat_minor": 0,
  "metadata": {
    "colab": {
      "provenance": [],
      "authorship_tag": "ABX9TyNzQpP+TtIBsbACO0b8XOMl",
      "include_colab_link": true
    },
    "kernelspec": {
      "name": "python3",
      "display_name": "Python 3"
    },
    "language_info": {
      "name": "python"
    }
  },
  "cells": [
    {
      "cell_type": "markdown",
      "metadata": {
        "id": "view-in-github",
        "colab_type": "text"
      },
      "source": [
        "<a href=\"https://colab.research.google.com/github/MissMukuru/-Overfit_n_Chill/blob/main/Image_classifier_NN.ipynb\" target=\"_parent\"><img src=\"https://colab.research.google.com/assets/colab-badge.svg\" alt=\"Open In Colab\"/></a>"
      ]
    },
    {
      "cell_type": "code",
      "execution_count": 3,
      "metadata": {
        "id": "Kbu3pTKUhdl3"
      },
      "outputs": [],
      "source": [
        "import tensorflow as tf\n",
        "from tensorflow import keras\n",
        "import numpy as np\n",
        "import pandas as pd\n",
        "import matplotlib.pyplot as plt\n",
        "%matplotlib inline\n",
        "from keras import layers, models\n",
        "from  tensorflow.keras.models import Sequential\n",
        "from tensorflow.keras.layers import Dense, Flatten"
      ]
    },
    {
      "cell_type": "code",
      "source": [
        "(X_train,y_train),(X_test,y_test) = keras.datasets.mnist.load_data()"
      ],
      "metadata": {
        "colab": {
          "base_uri": "https://localhost:8080/"
        },
        "id": "JzGPhxVqhsCN",
        "outputId": "3842ef06-425e-4286-82af-ae55685fcaf8"
      },
      "execution_count": 4,
      "outputs": [
        {
          "output_type": "stream",
          "name": "stdout",
          "text": [
            "Downloading data from https://storage.googleapis.com/tensorflow/tf-keras-datasets/mnist.npz\n",
            "\u001b[1m11490434/11490434\u001b[0m \u001b[32m━━━━━━━━━━━━━━━━━━━━\u001b[0m\u001b[37m\u001b[0m \u001b[1m0s\u001b[0m 0us/step\n"
          ]
        }
      ]
    },
    {
      "cell_type": "code",
      "source": [
        "#Normalising  the pixel values\n",
        "#0 - 255 is  the ggrayscale images, it scales to the ange 0-1 which helps the network train faster and perform better\n",
        "X_train,X_test = X_train/255,X_test/255"
      ],
      "metadata": {
        "id": "CVK89-wliNae"
      },
      "execution_count": 5,
      "outputs": []
    },
    {
      "cell_type": "code",
      "source": [
        "#Visualise a sample image\n",
        "plt.imshow(X_train[0], cmap = 'gray')\n",
        "plt.show()\n"
      ],
      "metadata": {
        "colab": {
          "base_uri": "https://localhost:8080/",
          "height": 430
        },
        "id": "aVcjqKIhijPp",
        "outputId": "f3a79501-05c7-4b0d-8643-aaf8d2adcef7"
      },
      "execution_count": 6,
      "outputs": [
        {
          "output_type": "display_data",
          "data": {
            "text/plain": [
              "<Figure size 640x480 with 1 Axes>"
            ],
            "image/png": "[encoded data removed]"
          },
          "metadata": {}
        }
      ]
    },
    {
      "cell_type": "code",
      "source": [
        "#Building  the neural network\n",
        "model = Sequential(\n",
        "    [Flatten(input_shape = (28 ,28)),#converts them into a 1D array,because dense layers require a 1d input\n",
        "    Dense(128, activation = 'relu'),#this is the hidden layer with 128 neurons\n",
        "    #the relu = rectified Linear Unit, it keeps the ppositive values as they are and sets the negative values to zero\n",
        "    Dense(10, activation  = 'softmax')]#This is the output layer and it ahas 10 neurons for each digit (0-9)\n",
        "    #the softmax function converts the output into  probabilities(each neuron  represents the pprobability of a digit)\n",
        ")"
      ],
      "metadata": {
        "colab": {
          "base_uri": "https://localhost:8080/"
        },
        "id": "hkPui-o9jDvl",
        "outputId": "41bc28fa-f9b3-4477-d59b-19f79bb63e11"
      },
      "execution_count": 7,
      "outputs": [
        {
          "output_type": "stream",
          "name": "stderr",
          "text": [
            "/usr/local/lib/python3.11/dist-packages/keras/src/layers/reshaping/flatten.py:37: UserWarning: Do not pass an `input_shape`/`input_dim` argument to a layer. When using Sequential models, prefer using an `Input(shape)` object as the first layer in the model instead.\n",
            "  super().__init__(**kwargs)\n"
          ]
        }
      ]
    },
    {
      "cell_type": "code",
      "source": [
        "#Now compiling the model\n",
        "model.compile(\n",
        "    optimizer =  'adam',#disstibutes the weights efficiently\n",
        "    loss = 'sparse_categorical_crossentropy',\n",
        "    metrics = ['accuracy']\n",
        ")"
      ],
      "metadata": {
        "id": "CexDr28ImTQF"
      },
      "execution_count": 8,
      "outputs": []
    },
    {
      "cell_type": "code",
      "source": [
        "model.fit(X_train, y_train,epochs = 5, validation_data = (X_test,y_test))"
      ],
      "metadata": {
        "colab": {
          "base_uri": "https://localhost:8080/"
        },
        "id": "0kV0xPdpntzh",
        "outputId": "5ff6d1af-8eb8-4e17-f1e5-e2bc4dab0c2f"
      },
      "execution_count": 9,
      "outputs": [
        {
          "output_type": "stream",
          "name": "stdout",
          "text": [
            "Epoch 1/5\n",
            "\u001b[1m1875/1875\u001b[0m \u001b[32m━━━━━━━━━━━━━━━━━━━━\u001b[0m\u001b[37m\u001b[0m \u001b[1m5s\u001b[0m 2ms/step - accuracy: 0.8809 - loss: 0.4249 - val_accuracy: 0.9615 - val_loss: 0.1342\n",
            "Epoch 2/5\n",
            "\u001b[1m1875/1875\u001b[0m \u001b[32m━━━━━━━━━━━━━━━━━━━━\u001b[0m\u001b[37m\u001b[0m \u001b[1m9s\u001b[0m 5ms/step - accuracy: 0.9655 - loss: 0.1186 - val_accuracy: 0.9685 - val_loss: 0.1086\n",
            "Epoch 3/5\n",
            "\u001b[1m1875/1875\u001b[0m \u001b[32m━━━━━━━━━━━━━━━━━━━━\u001b[0m\u001b[37m\u001b[0m \u001b[1m8s\u001b[0m 4ms/step - accuracy: 0.9759 - loss: 0.0796 - val_accuracy: 0.9749 - val_loss: 0.0857\n",
            "Epoch 4/5\n",
            "\u001b[1m1875/1875\u001b[0m \u001b[32m━━━━━━━━━━━━━━━━━━━━\u001b[0m\u001b[37m\u001b[0m \u001b[1m6s\u001b[0m 3ms/step - accuracy: 0.9826 - loss: 0.0572 - val_accuracy: 0.9763 - val_loss: 0.0806\n",
            "Epoch 5/5\n",
            "\u001b[1m1875/1875\u001b[0m \u001b[32m━━━━━━━━━━━━━━━━━━━━\u001b[0m\u001b[37m\u001b[0m \u001b[1m4s\u001b[0m 2ms/step - accuracy: 0.9861 - loss: 0.0441 - val_accuracy: 0.9783 - val_loss: 0.0717\n"
          ]
        },
        {
          "output_type": "execute_result",
          "data": {
            "text/plain": [
              "<keras.src.callbacks.history.History at 0x7b651d544b90>"
            ]
          },
          "metadata": {},
          "execution_count": 9
        }
      ]
    },
    {
      "cell_type": "code",
      "source": [
        "#We then evaluate the model peformance\n",
        "test_loss, test_acc = model.evaluate(X_test, y_test)\n",
        "print(f'test_accuracy: {test_acc}')\n"
      ],
      "metadata": {
        "colab": {
          "base_uri": "https://localhost:8080/"
        },
        "id": "e2sJrCEbm4pH",
        "outputId": "a8e647ef-46e8-4c3d-85c6-3db9686757bb"
      },
      "execution_count": 10,
      "outputs": [
        {
          "output_type": "stream",
          "name": "stdout",
          "text": [
            "\u001b[1m313/313\u001b[0m \u001b[32m━━━━━━━━━━━━━━━━━━━━\u001b[0m\u001b[37m\u001b[0m \u001b[1m1s\u001b[0m 2ms/step - accuracy: 0.9756 - loss: 0.0808\n",
            "test_accuracy: 0.9782999753952026\n"
          ]
        }
      ]
    },
    {
      "cell_type": "code",
      "source": [
        "#then we make predictions on the data\n",
        "prediction = model.predict(X_test)\n",
        "\n",
        "#i need to show the predictions\n",
        "index = 30\n",
        "plt.imshow(X_test[index], cmap = 'grey')\n",
        "plt.title(f\"predicted: {np.argmax(prediction[index])}\")\n",
        "plt.show()"
      ],
      "metadata": {
        "colab": {
          "base_uri": "https://localhost:8080/",
          "height": 469
        },
        "id": "xpcGSsbmornd",
        "outputId": "5013a067-79bc-4892-9f12-3b8b8baec499"
      },
      "execution_count": 11,
      "outputs": [
        {
          "output_type": "stream",
          "name": "stdout",
          "text": [
            "\u001b[1m313/313\u001b[0m \u001b[32m━━━━━━━━━━━━━━━━━━━━\u001b[0m\u001b[37m\u001b[0m \u001b[1m0s\u001b[0m 1ms/step\n"
          ]
        },
        {
          "output_type": "display_data",
          "data": {
            "text/plain": [
              "<Figure size 640x480 with 1 Axes>"
            ],
            "image/png": "[encoded data removed]"
          },
          "metadata": {}
        }
      ]
    },
    {
      "cell_type": "markdown",
      "source": [
        "# CONVOLUTIONAL NEURAL NETWORKS\n",
        "\n",
        "**NOW WE COMPARE THE ARTIFICIAL NEURAL NETWORK AND THE CONVOLUTION NEURAL NETWORKS**\n",
        "\n",
        "We will look at the syntax, the sematics and the diffeence in accuary is at all there is any."
      ],
      "metadata": {
        "id": "Gm8g5qWFlfyJ"
      }
    },
    {
      "cell_type": "code",
      "source": [
        "#Reshape data to add a single channel(grayscale images)\n",
        "X_train = X_train.reshape(-1, 28, 28, 1)\n",
        "X_test = X_test.reshape(-1, 28, 28, 1)"
      ],
      "metadata": {
        "id": "X-SMI-7xov8h"
      },
      "execution_count": 12,
      "outputs": []
    },
    {
      "cell_type": "code",
      "source": [
        "#defining the CNN model\n",
        "model = Sequential([\n",
        "    #First CNN layer\n",
        "    layers.Conv2D(32, (3,3), activation =  'relu', input_shape=(28, 28, 1))\n",
        "    layers.MaxPooling2D((2,2)),\n",
        "\n",
        "    #Second CNN layer\n",
        "    layers.conv2D(64, (3,3), activation = 'relu'),\n",
        "    layers.MaxPooling2D((2,2)),\n",
        "\n",
        "    #Third CNN layer\n",
        "    layers.Flatten()\n",
        "    layers.Dense(128,activation = 'relu'),#This is the fully connected layer\n",
        "    layers.Dense(10, activation = 'softmax')#This is th output layer(10 classes)\n",
        "])"
      ],
      "metadata": {
        "id": "1Gh4BR0PvJBt"
      },
      "execution_count": 13,
      "outputs": []
    },
    {
      "cell_type": "code",
      "source": [
        "model.compile(\n",
        "    optimizer = 'adam',\n",
        "    loss = 'sparse_categorical_crossentropy',\n",
        "    metrics = ['accuracy']\n",
        ")"
      ],
      "metadata": {
        "id": "H0xPWeB6vRyr"
      },
      "execution_count": 15,
      "outputs": []
    },
    {
      "cell_type": "code",
      "source": [
        "#Taining the model\n",
        "history =model.fit(X_train,y_train, epochs = 10, validation_data = (X_test, y_test))\n"
      ],
      "metadata": {
        "colab": {
          "base_uri": "https://localhost:8080/"
        },
        "id": "hzZ9nrUgxNrE",
        "outputId": "bc3edc32-ecd6-4adb-a505-d83bc2901048"
      },
      "execution_count": 16,
      "outputs": [
        {
          "output_type": "stream",
          "name": "stdout",
          "text": [
            "Epoch 1/10\n",
            "\u001b[1m1875/1875\u001b[0m \u001b[32m━━━━━━━━━━━━━━━━━━━━\u001b[0m\u001b[37m\u001b[0m \u001b[1m5s\u001b[0m 2ms/step - accuracy: 0.9889 - loss: 0.0355 - val_accuracy: 0.9772 - val_loss: 0.0817\n",
            "Epoch 2/10\n",
            "\u001b[1m1875/1875\u001b[0m \u001b[32m━━━━━━━━━━━━━━━━━━━━\u001b[0m\u001b[37m\u001b[0m \u001b[1m5s\u001b[0m 2ms/step - accuracy: 0.9919 - loss: 0.0259 - val_accuracy: 0.9776 - val_loss: 0.0769\n",
            "Epoch 3/10\n",
            "\u001b[1m1875/1875\u001b[0m \u001b[32m━━━━━━━━━━━━━━━━━━━━\u001b[0m\u001b[37m\u001b[0m \u001b[1m4s\u001b[0m 2ms/step - accuracy: 0.9942 - loss: 0.0194 - val_accuracy: 0.9790 - val_loss: 0.0747\n",
            "Epoch 4/10\n",
            "\u001b[1m1875/1875\u001b[0m \u001b[32m━━━━━━━━━━━━━━━━━━━━\u001b[0m\u001b[37m\u001b[0m \u001b[1m5s\u001b[0m 3ms/step - accuracy: 0.9952 - loss: 0.0157 - val_accuracy: 0.9774 - val_loss: 0.0810\n",
            "Epoch 5/10\n",
            "\u001b[1m1875/1875\u001b[0m \u001b[32m━━━━━━━━━━━━━━━━━━━━\u001b[0m\u001b[37m\u001b[0m \u001b[1m4s\u001b[0m 2ms/step - accuracy: 0.9962 - loss: 0.0142 - val_accuracy: 0.9802 - val_loss: 0.0767\n",
            "Epoch 6/10\n",
            "\u001b[1m1875/1875\u001b[0m \u001b[32m━━━━━━━━━━━━━━━━━━━━\u001b[0m\u001b[37m\u001b[0m \u001b[1m5s\u001b[0m 2ms/step - accuracy: 0.9962 - loss: 0.0118 - val_accuracy: 0.9761 - val_loss: 0.0909\n",
            "Epoch 7/10\n",
            "\u001b[1m1875/1875\u001b[0m \u001b[32m━━━━━━━━━━━━━━━━━━━━\u001b[0m\u001b[37m\u001b[0m \u001b[1m6s\u001b[0m 2ms/step - accuracy: 0.9971 - loss: 0.0106 - val_accuracy: 0.9768 - val_loss: 0.0886\n",
            "Epoch 8/10\n",
            "\u001b[1m1875/1875\u001b[0m \u001b[32m━━━━━━━━━━━━━━━━━━━━\u001b[0m\u001b[37m\u001b[0m \u001b[1m4s\u001b[0m 2ms/step - accuracy: 0.9968 - loss: 0.0100 - val_accuracy: 0.9788 - val_loss: 0.0862\n",
            "Epoch 9/10\n",
            "\u001b[1m1875/1875\u001b[0m \u001b[32m━━━━━━━━━━━━━━━━━━━━\u001b[0m\u001b[37m\u001b[0m \u001b[1m5s\u001b[0m 2ms/step - accuracy: 0.9980 - loss: 0.0072 - val_accuracy: 0.9787 - val_loss: 0.0864\n",
            "Epoch 10/10\n",
            "\u001b[1m1875/1875\u001b[0m \u001b[32m━━━━━━━━━━━━━━━━━━━━\u001b[0m\u001b[37m\u001b[0m \u001b[1m4s\u001b[0m 2ms/step - accuracy: 0.9985 - loss: 0.0061 - val_accuracy: 0.9785 - val_loss: 0.0892\n"
          ]
        }
      ]
    },
    {
      "cell_type": "code",
      "source": [
        "test_loss,test_acc =  model.evaluate(X_test, y_test)\n",
        "print(f'Test Accuracy: {test_acc}')"
      ],
      "metadata": {
        "colab": {
          "base_uri": "https://localhost:8080/"
        },
        "id": "4NWTOi0qxNkK",
        "outputId": "bc886c8c-e6fa-40a1-960e-0f68d70ecefa"
      },
      "execution_count": 17,
      "outputs": [
        {
          "output_type": "stream",
          "name": "stdout",
          "text": [
            "\u001b[1m313/313\u001b[0m \u001b[32m━━━━━━━━━━━━━━━━━━━━\u001b[0m\u001b[37m\u001b[0m \u001b[1m0s\u001b[0m 1ms/step - accuracy: 0.9759 - loss: 0.0980\n",
            "Test Accuracy: 0.9785000085830688\n"
          ]
        }
      ]
    },
    {
      "cell_type": "code",
      "source": [
        "#Plotting the accuaraacy and loss\n",
        "plt.figure(figsize=(12, 5))\n",
        "plt.subplot(1,2,1)\n",
        "plt.plot(history.history['accuracy'],  label = 'Training_accuracy')\n",
        "plt.plot(history.history['val_accuracy'], label = 'Validation_accuracy')\n",
        "plt.title('Modell accuracy')\n",
        "plt.legend()"
      ],
      "metadata": {
        "colab": {
          "base_uri": "https://localhost:8080/",
          "height": 485
        },
        "id": "cr1tuzIyyBpe",
        "outputId": "267a37d0-a82b-4aff-8d2c-86e43ba8aa11"
      },
      "execution_count": 20,
      "outputs": [
        {
          "output_type": "execute_result",
          "data": {
            "text/plain": [
              "<matplotlib.legend.Legend at 0x7b650ba3df50>"
            ]
          },
          "metadata": {},
          "execution_count": 20
        },
        {
          "output_type": "display_data",
          "data": {
            "text/plain": [
              "<Figure size 1200x500 with 1 Axes>"
            ],
            "image/png": "[encoded data removed]"
          },
          "metadata": {}
        }
      ]
    },
    {
      "cell_type": "markdown",
      "source": [
        "Remember that the **training accuracy** represents how well your model predicts on the data it was trained on and the **validation accuracy** represents how well your model genalizes to new unseen data"
      ],
      "metadata": {
        "id": "l2xYs0F_C3rD"
      }
    },
    {
      "cell_type": "markdown",
      "source": [
        "Since via teh graph we can tell that we only have a small difference in the two, it means we hae Good generalization and and some slight overfittng which is acceptable"
      ],
      "metadata": {
        "id": "BY06un6TDZXY"
      }
    },
    {
      "cell_type": "code",
      "source": [
        "plt.subplot(1,2,2)\n",
        "plt.plot(history.history['loss'], label = \"Training loss\")\n",
        "plt.plot(history.history['val_loss'],label = 'Validation loss')\n",
        "plt.title('Model loss')\n",
        "plt.legend()\n",
        "plt.show()"
      ],
      "metadata": {
        "colab": {
          "base_uri": "https://localhost:8080/",
          "height": 452
        },
        "id": "EMpNX5zvBCQR",
        "outputId": "3da5e506-f3c3-4a4e-e7e8-b1558d58a338"
      },
      "execution_count": 23,
      "outputs": [
        {
          "output_type": "display_data",
          "data": {
            "text/plain": [
              "<Figure size 640x480 with 1 Axes>"
            ],
            "image/png": "[encoded data removed]"
          },
          "metadata": {}
        }
      ]
    },
    {
      "cell_type": "markdown",
      "source": [
        "This is a scenario where your training loss is higher than the validation loss and exhibiting an upward trend while the validation loss is decreasing (plummeting)\n",
        "\n",
        "\n",
        "\n"
      ],
      "metadata": {
        "id": "5rD8ylsoCySl"
      }
    },
    {
      "cell_type": "markdown",
      "source": [
        "This is sometimes common especially when there might be differences in the distribution or characteristics of your training and validation datasets.\n",
        "\n"
      ],
      "metadata": {
        "id": "WQICX-4QEhpb"
      }
    },
    {
      "cell_type": "markdown",
      "source": [],
      "metadata": {
        "id": "kjl5aljrEXSe"
      }
    },
    {
      "cell_type": "code",
      "source": [],
      "metadata": {
        "id": "ZY7rD8KpBj9B"
      },
      "execution_count": null,
      "outputs": []
    }
  ]
}